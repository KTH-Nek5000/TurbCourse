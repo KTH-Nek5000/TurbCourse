{
 "cells": [
  {
   "cell_type": "markdown",
   "metadata": {},
   "source": [
    "## Simulation and post-processing of the turbulent flow over a periodic hill using `Nek5000`\n",
    "> Saleh Rezaeiravesh and Philipp Schlatter <br />\n",
    "  salehr@mech.kth.se, pschlatt@mech.kth.se <br />\n",
    "  SimEx/FLOW, KTH Engineering Mechanics, Royal Institute of Technology, Stockholm, Sweden"
   ]
  },
  {
   "cell_type": "markdown",
   "metadata": {},
   "source": [
    "This is a short tutorial for simulation of a 3D turbulent flow over a periodic hill and post-processing of the resulting statsitics. \n",
    "The streamwise, wall-normal, and spanwise coordinates are specified by $x$, $y$, and $z$, respectively. The flow is periodic in $z$ direction, and periodic boundary condition is applied at the inlet and outlet surfaces with normal vectors in $-x$ and $+x$ directions, respectively. "
   ]
  },
  {
   "cell_type": "markdown",
   "metadata": {},
   "source": [
    "## 1. Nek5000 source code"
   ]
  },
  {
   "cell_type": "markdown",
   "metadata": {},
   "source": [
    "We use the KTH-Framework extension of `Nek5000` which can be cloned from [here](https://github.com/KTH-Nek5000/KTH_Framework). \n",
    "\n",
    "The source files of the periodic hill case can bedownloaded from [this example](https://github.com/KTH-Nek5000/KTH_Examples/tree/eac7d10cc1b03278874f2a98a9a691b165dee4f0/phill_STAT)."
   ]
  },
  {
   "cell_type": "markdown",
   "metadata": {},
   "source": [
    "## 2. Flow simulation"
   ]
  },
  {
   "cell_type": "markdown",
   "metadata": {},
   "source": [
    "The case is called `phill`. In the following, different steps are briefly explained to set up and run the simulation as well as computing turbulence statsitics. "
   ]
  },
  {
   "cell_type": "markdown",
   "metadata": {},
   "source": [
    "### 2.1. Mesh Generation & Specifying Boundary Conditions"
   ]
  },
  {
   "cell_type": "markdown",
   "metadata": {},
   "source": [
    "We use the internal mesh generator of `Nek5000` to create a uniform mesh for a 3D square box. Then, in the `.usr` file, the coordinates of the points of the geometry and mesh are adjusted at the first time step to obtain the geomtery of the periodic hill with a structured mesh. "
   ]
  },
  {
   "cell_type": "markdown",
   "metadata": {},
   "source": [
    "- In `phill.box`, the size of the box, and mesh size are set:\n",
    "  * Line 17: Number of elements in $x$, $y$, and $z$ directions. \n",
    "  * Lines 18-20: Starting location, final location, and grading of the mesh elements in $x$, $y$, and $z$. \n",
    "  * Line 21: Boundary conditions of the six faces of the box with normals in $-x$, $+x$, $-y$, $+y$, $-z$, and $+z$ are respectively set as: `P  ,P  ,W  ,W  ,P  ,P  `, where, `W`=wall, `P`=periodic. \n",
    "  \n",
    "- To create the box and its mesh: run `genbox` which is a `Nek5000` standard tool. This results in `box.re2`. Rename this file as `phill.re2`.\n",
    "\n",
    "- Map the mesh by `genmap` and create `phill.ma2`. "
   ]
  },
  {
   "cell_type": "markdown",
   "metadata": {},
   "source": [
    "When `Nek5000` is compiled and run, the box is mapped into a 3D periodic hill. This is achieved by calling subroutine `box2phill` in `usrdat2` in `phill.usr`. The dimension of the periodic hill geomtery as well as the mesh stretching parameters in the wall-normal directions are specified in subtourine `usrdat2`. \n",
    "\n",
    "Since the flow is periodic in the streamwise direction, a forcing term is required to keep the mass flow rate constant at each time step during the simulation. The associated bulk velocity (streamwise velocity averaged over the volume of the whole domain) is computed in subroutine `usrdat3`. "
   ]
  },
  {
   "cell_type": "markdown",
   "metadata": {},
   "source": [
    "<img src=\"./static_figs/phill_mesh.png\" alt=\"drawing\" width=\"600\"/>\n",
    "\n",
    "\n",
    "\n",
    "<center>The mesh created by Nek5000 for the periodic hill geometry.</center>\n"
   ]
  },
  {
   "cell_type": "markdown",
   "metadata": {},
   "source": [
    "### 2.2. Compilation"
   ]
  },
  {
   "cell_type": "markdown",
   "metadata": {},
   "source": [
    "- First, the following should be set in `SIZE`:\n",
    "    * `lx1`: Number of Gauss-Lobatto-Legendre (GLL) points per element per dimension. \n",
    "    * `lxd`: Number of quadrature points for dealiasing (over-integration). We take the integer part of $lxd=3/2\\, lx1$.\n",
    "    * `lelg`: Total number of elements which is obtained from what is set in `phill.box`. This parameter is allowed to be set to a larger value than the actual number of elements, but not less! \n",
    "    * `lelt`: Maximum total number of elements per MPI rank. This value can be set considering the minimum MPI rank to be used to run the case. \n",
    "    The rest of parameters are kept as default. "
   ]
  },
  {
   "cell_type": "markdown",
   "metadata": {},
   "source": [
    "- Next, we need to set the required parameters in the compilation script `compile_script`:\n",
    "    * Set the absolute path to `KTH_Toolbox` in `TOOLBOX_SRC`. \n",
    "    * Set the absolute path to `Nek5000` source code in `NEK_SOURCE_ROOT`.\n",
    "    * Set appropriate FORTRAN and C compilers to `FC` and `CC`, respectively. The default is `FC=mpifort` and `CC=mpicc`. \n",
    "    \n",
    "To compile, run `./compile_script --all`. The compilation report will be written in `build.log`.\n",
    "\n",
    "For cleaning old compilation files, run `./compile_script --clean` and then type `Y`.     "
   ]
  },
  {
   "cell_type": "markdown",
   "metadata": {},
   "source": [
    "### 2.3. Running the case"
   ]
  },
  {
   "cell_type": "markdown",
   "metadata": {},
   "source": [
    "After compiling the case, the object file `nek5000` is created which can be executed. To run the case with, for instance, 8 processors, type\n",
    "\n",
    "`mpirun -np 8 nek5000 >>logfile&`"
   ]
  },
  {
   "cell_type": "markdown",
   "metadata": {},
   "source": [
    "However, prior to this, two things should be done:\n",
    "\n",
    "1. Create a file named `SESSION.NAME`. The first line is the case name, i.e. `phill` and the second line is the absolute path to the case directory (do not forget `/` at the end of the path).\n",
    "\n",
    "2. Set the simulation parameters in `phill.par`. The parameters include:\n",
    "   * Maximum number of time steps `numSteps`\n",
    "   * Time step size, `dt`. For a constant $\\Delta t$ set a negative value\n",
    "   * Interval of saving flow fields `writeInterval`\n",
    "   * Filtering parameters\n",
    "   * Checkpointing parameters under `[_CHKPOINT]` to back up and restart simulation\n",
    "   * Sampling frequency for time averaging`AVSTEP` and intervals of writing averaged fields, `IOSTEP`\n",
    "   * Reynolds number or viscosity, `viscosity`. If a negative value is set, it will be considered as the Reynolds number. "
   ]
  },
  {
   "cell_type": "markdown",
   "metadata": {},
   "source": [
    "List of the output files:\n",
    "   * `phill0.f*`: snapshots of the flow fields written at intervals `writeInterval`.\n",
    "   * `rs6phill0.f*`: backup files required for restarting the simulation. These files are written with frequency `CHKPINTERVAL` set in `phill.par`.     \n",
    "   * `stsphill0.f*`: averaged fields to be used for extracting turbulence statistics. "
   ]
  },
  {
   "cell_type": "markdown",
   "metadata": {},
   "source": [
    "**Contour plots of the snapshots:**\n",
    "The snapshot fields `phill0.f*` can be plotted using [`ParaView`](https://www.paraview.org/) or [`VisIt`](https://wci.llnl.gov/simulation/computer-codes/visit). To this end, we need to first run `visnek` command in the case root. This creates `phill.nek5000` which can be opened in the mentioned software. "
   ]
  },
  {
   "cell_type": "markdown",
   "metadata": {},
   "source": [
    "<img src=\"./static_figs/phill_vel.png\" alt=\"drawing\" width=\"500\"/>\n",
    "\n",
    "<center>Contours of an instantaneous field of velocity magnitude.</center>"
   ]
  },
  {
   "cell_type": "markdown",
   "metadata": {},
   "source": [
    "## 3. Post-processing the Turbulence Statistics"
   ]
  },
  {
   "cell_type": "markdown",
   "metadata": {},
   "source": [
    "The flow statistics are computed by averaging over time and the $z$-direction. As a result, `stsphill0.f*` files are created which contain various fields required to compute turbulence statistics.The final statistics are 2D and vary with $x$ and $y$ directions.\n",
    "\n",
    "To obtain the post-processed 2D turbulence statistics, the following steps are required:\n",
    "\n",
    "1. **Step 1** - Flow simulation and gathering the statistics: <br />\n",
    "This needs running the `Nek5000` case [`phill_STAT`](https://github.com/KTH-Nek5000/KTH_Examples/tree/master/phill_STAT). By gathering the statistics (averaged over time and z-direction), two sets of files are produced: `stsphill0.f*` and `c2Dphill0.f*`. \n",
    "\n",
    "&nbsp;\n",
    "\n",
    "2. **Step 2** - Merge the statistics data files and interpolate the data on the interpolation points:<br />\n",
    "These are achieved by running `Nek5000` in [`phill_PSTAT2D/pp_Nek/`](https://github.com/KTH-Nek5000/KTH_Examples/tree/master/phill_PSTAT2D/pp_Nek), see below for the details. As a result of this step, `int_fld` is produced in `/pp_Nek/DATA/`. Note that the interpolation is from the GLL points in the simulation grid to a set of points specified in `int_pos`. For the list of fields written in `int_fld`, see [this list](https://github.com/KTH-Nek5000/KTH_Examples/blob/master/pipe_PSTAT2D/pp_python/nom_fields.txt).\n",
    "\n",
    "&nbsp;\n",
    "\n",
    "3. **Step 3** - Extract mean, RMS, and other turbulence statistics from `int_fld`:<br />\n",
    "As detailed below, by running a set of `Python` scripts located in [`phill_PSTAT2D/pp_Python/`](https://github.com/KTH-Nek5000/KTH_Examples/tree/master/phill_PSTAT2D/pp_Python), the profiles of turbulence statistics on the interpolation points are constructed from the fields available in `int_fld`."
   ]
  },
  {
   "cell_type": "markdown",
   "metadata": {},
   "source": [
    "### 3.1. Details of Step 2\n",
    "* Change directory to `/phill_PSTAT2D/`.\n",
    "* In `./pp_Python/modules/` run `writer_int_pos.py` to create `int_pos` which contains a set of points at which the gathered statistics are to be interpolated. `int_pos` will be created in `./pp_Nek/DATA/`. Before running the script, the parameters in `./pp_Python/inputs_phill_pp.in` should be set. The \"Fluid Properties\" and \"Hill Geometry\" parameters should be the same as what used in the flow simulation (i.e. in Step 1). Currently two sets of interpolation points are considered: \n",
    "  * (P-i) A set of streamwise locations `xpvrt` is considered at each `npvrt` points are created in the y-direction between the two walls. \n",
    "  * (P-ii) Adjacent to the lower wall and between the two hills,  `npwall` points are created in the streamwise direction.\n",
    "\n",
    "* Copy `stsphill0.f*` and `c2dphill0.f*` files to `./pp_Nek/DATA/`.\n",
    "\n",
    "* Run `Nek5000` to create `int_fld` in `../pp_Nek/DATA/`. In `../pp_Nek/` do these:\n",
    "    - Set `lx1` and `lxd` in `SIZE` based on what is used in the flow simulation.\n",
    "    - Set `lhis` in `SIZE` such that it is at least the same of as the total number of the interpolation points.\n",
    "    - Set `viscosity` and `density` in `phill.par` as what is used in the simulation. Also, set the post-processing parameters under `[_PSTAT2D]`.\n",
    "    - Compile the case by `./compile_script --all` and then run `nek5000`.\n",
    "As a result, `int_fld` is generated which should then be moved to `./DATA/`."
   ]
  },
  {
   "cell_type": "markdown",
   "metadata": {},
   "source": [
    "### 3.2. Details of Step 3\n",
    "To extract the profiles of the turbulence statistics, the `Python` scripts in `./pp_Python/` are used:\n",
    "\n",
    "  * The whole workflow is implemented in `main_pHill_PP.py`. Therefore, one can only run `python main_pHill_PP`. For different functions called in `main_pHill_PP.py`, see the scripts in `/modules/`.\n",
    "  * The input parameters and information about the interpolation points are read from `/pp_Python/inputs_phill_pp.in`. \n",
    "  * The resulting database `dbProfs` and `dbWall` contain the turbulence statistics at the (P-i) and (P-ii) interpolation points, respectively, see above. For the complete set of quantities in these databases, print `dbProfs.keys()`.\n",
    "  * A set of example plots are provided at the end of `main_pHill_PP.py`. Note that in addition to the statistical moments of flow variables, one can plot various budget terms for the Reynolds stress components. "
   ]
  },
  {
   "cell_type": "markdown",
   "metadata": {},
   "source": [
    "<center>Profiles of $\\langle u \\rangle$ at different streamwise locations.</center>\n",
    "\n",
    "<img src=\"./static_figs/phill_uProfs.png\" alt=\"drawing\" width=\"800\"/>"
   ]
  },
  {
   "cell_type": "markdown",
   "metadata": {},
   "source": [
    "<center>Profiles of turbulent kinetic energy (TKE) at different streamwise locations.</center>\n",
    "<img src=\"./static_figs/phill_tkeProfs.png\" alt=\"drawing\" width=\"800\"/>"
   ]
  },
  {
   "cell_type": "markdown",
   "metadata": {},
   "source": [
    "<center>Profiles of $\\langle u'v' \\rangle$ at different streamwise locations.</center>\n",
    "<img src=\"./static_figs/phill_uvProfs.png\" alt=\"drawing\" width=\"800\"/>"
   ]
  }
 ],
 "metadata": {
  "kernelspec": {
   "display_name": "Python 3",
   "language": "python",
   "name": "python3"
  },
  "language_info": {
   "codemirror_mode": {
    "name": "ipython",
    "version": 3
   },
   "file_extension": ".py",
   "mimetype": "text/x-python",
   "name": "python",
   "nbconvert_exporter": "python",
   "pygments_lexer": "ipython3",
   "version": "3.7.4"
  }
 },
 "nbformat": 4,
 "nbformat_minor": 2
}
