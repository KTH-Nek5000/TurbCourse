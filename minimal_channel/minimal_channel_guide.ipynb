{
 "cells": [
  {
   "cell_type": "markdown",
   "metadata": {},
   "source": [
    "## Simulation and POD analysis of the marginally turbulent flow in an open channel at low Reynolds number using `Nek5000`\n",
    "> Daniele Massaro, Saleh Rezaeiravesh and Philipp Schlatter <br />\n",
    "  dmassaro@mech.kth.se, salehr@mech.kth.se, pschlatt@mech.kth.se <br />\n",
    "  SimEx/FLOW, KTH Engineering Mechanics, Royal Institute of Technology, Stockholm, Sweden"
   ]
  },
  {
   "cell_type": "markdown",
   "metadata": {},
   "source": [
    "This is a short tutorial for the simulation of the turbulent flow in an open channel at low Reynolds number ($Re_b=2000$ based on the bulk velocity $u_b$, the channel half-height $h$ and the viscosity $\\nu$), and the analysis of the velocity fields using 3D POD. The friction Reynolds number $Re_\\tau\\approx 135$ based on the friction velocity $u_\\tau$.\n",
    "\n",
    "The streamwise, wall-normal, and spanwise coordinates are specified by $x$, $y$, and $z$, respectively. The flow is periodic in both $x$ and $z$ directions, with fairly small dimension of $L_x = \\pi$ and $L_z = \\pi/3$ in terms of the channel half-height $h$. The lower boundary condition at $y=0$ is a solid wall (no slip boundary condition) and at $y=1$ a slip condition ($\\partial u/\\partial y=v=\\partial w/\\partial y = 0$). "
   ]
  },
  {
   "cell_type": "markdown",
   "metadata": {},
   "source": [
    "## 1. Nek5000 source code and POD"
   ]
  },
  {
   "cell_type": "markdown",
   "metadata": {},
   "source": [
    "We use the standard `Nek5000` code which can be cloned from [here](https://github.com/Nek5000/Nek5000). If you want you can also use the KTH-Framework extension of `Nek5000` which can be cloned from [here](https://github.com/KTH-Nek5000/KTH_Framework). \n",
    "\n",
    "The source files of the minimal channel can be downloaded from [here](https://github.com/KTH-Nek5000/TurbCourse/tree/main/minimal_channel). You will need `channel.box`, `SIZE`, `channel.usr` and `channel.par`.\n",
    "\n",
    "The POD code can be downloaded from [here](https://github.com/KTH-Nek5000/TurbCourse/tree/main/pod/channel). In order to read and write Nek5000 files, you will need the package `pymech`. Unfortunately, the packaged version does not include single 32-bit floats. Therefore, you cannot use the pip version of the Nek readers, but rather fork them from [here](https://github.com/danielemassaro/pymech). The easiest way is to install the pip version, and then replace the relevant part with the forked one."
   ]
  },
  {
   "cell_type": "markdown",
   "metadata": {},
   "source": [
    "## 2. Flow simulation"
   ]
  },
  {
   "cell_type": "markdown",
   "metadata": {},
   "source": [
    "The case is called `channel`. In the following, different steps are briefly explained to set up and run the simulation as well as computing POD. "
   ]
  },
  {
   "cell_type": "markdown",
   "metadata": {},
   "source": [
    "### 2.1. Mesh Generation & Specifying Boundary Conditions"
   ]
  },
  {
   "cell_type": "markdown",
   "metadata": {},
   "source": [
    "We use the internal mesh generator of `Nek5000` to create a uniform mesh for a 3D square box. Then, in the `.usr` file, the coordinates of the points of the geometry and mesh are adjusted at the first time step to obtain the geomtery of the periodic hill with a structured mesh. "
   ]
  },
  {
   "cell_type": "markdown",
   "metadata": {},
   "source": [
    "- In `channel.box`, the size of the box, and mesh size are set:\n",
    "  * Line 6: Number of elements in $x$, $y$, and $z$ directions (as negative numbers)\n",
    "  * Lines 7-9: Starting location, final location, and stretching of the mesh elements in $x$, $y$, and $z$. \n",
    "  * Line 10: Boundary conditions of the six faces of the box with normals in $-x$, $+x$, $-y$, $+y$, $-z$, and $+z$ are respectively set as: `P  ,P  ,W  ,SYM,P  ,P  `, where, `W`=wall, `P`=periodic and `SYM`=symmetry. \n",
    "  \n",
    "- To create the box and its mesh: run `genbox` which is a `Nek5000` standard tool. This results in `box.re2`. Rename this file as `channel.re2`.\n",
    "\n",
    "- Map the mesh by `genmap` and create `channel.ma2`. "
   ]
  },
  {
   "cell_type": "markdown",
   "metadata": {},
   "source": [
    "When `Nek5000` is compiled and run, the box is mapped into an open channel. This is achieved by the subroutine `userdat` in `channel.usr`. The dimension of the channel as well as the mesh stretching parameters in the wall-normal directions are specified in subroutine `usrdat`. \n",
    "\n",
    "Since the flow is periodic in the streamwise direction, a forcing term is required to keep the mass flow rate constant at each time step during the simulation. "
   ]
  },
  {
   "attachments": {},
   "cell_type": "markdown",
   "metadata": {},
   "source": [
    "<img src=\"./static_figs/mesh.png\" alt=\"drawing\" width=\"600\"/>\n",
    "\n",
    "\n",
    "\n",
    "<center>The mesh created by the box file for the channel geometry.</center>\n"
   ]
  },
  {
   "cell_type": "markdown",
   "metadata": {},
   "source": [
    "### 2.2. Compilation"
   ]
  },
  {
   "cell_type": "markdown",
   "metadata": {},
   "source": [
    "- First, the following should be set in `SIZE`:\n",
    "    * `lx1`: Number of Gauss-Lobatto-Legendre (GLL) points per element per dimension. \n",
    "    * `lxd`: Number of quadrature points for dealiasing (over-integration). We take the integer part of $lxd=3/2\\, lx1$.\n",
    "    * `lelg`: Total number of elements which is obtained from what is set in `channel.box`. This parameter is allowed to be set to a larger value than the actual number of elements, but not less! \n",
    "    * `lelt`: Maximum total number of elements per MPI rank. This value can be set considering the minimum MPI rank to be used to run the case. \n",
    "    The rest of parameters are kept as default. "
   ]
  },
  {
   "cell_type": "markdown",
   "metadata": {},
   "source": [
    "- Next, we need to set the required parameters in the compilation script `compile_script`:\n",
    "    * Set the absolute path to `Nek5000` source code in `NEK_SOURCE_ROOT`.\n",
    "    * Set appropriate FORTRAN and C compilers to `FC` and `CC`, respectively. The default is `FC=mpifort` and `CC=mpicc`. \n",
    "    \n",
    "To compile, run `./compile_script --all`. The compilation report will be written in `build.log`.\n",
    "\n",
    "For cleaning old compilation files, run `./compile_script --clean` and then type `Y`.     "
   ]
  },
  {
   "cell_type": "markdown",
   "metadata": {},
   "source": [
    "### 2.3. Running the case"
   ]
  },
  {
   "cell_type": "markdown",
   "metadata": {},
   "source": [
    "After compiling the case, the object file `nek5000` is created which can be executed. To run the case with, for instance, 4 processors, type\n",
    "\n",
    "`mpirun -np 4 nek5000 >>logfile&`"
   ]
  },
  {
   "cell_type": "markdown",
   "metadata": {},
   "source": [
    "However, prior to this, two things should be done:\n",
    "\n",
    "1. Create a file named `SESSION.NAME`. The first line is the case name, i.e. `channel` and the second line is the absolute path to the case directory (do not forget `/` at the end of the path).\n",
    "\n",
    "2. Set the simulation parameters in `channel.par`. The parameters include:\n",
    "   * Maximum number of time steps `numSteps`\n",
    "   * Time step size, `dt`. For a constant $\\Delta t$ set a negative value, a positive one gives the maximum\n",
    "   * Interval of saving flow fields `writeInterval`\n",
    "   * Reynolds number or viscosity, `viscosity`. If a negative value is set, it will be considered as the Reynolds number. "
   ]
  },
  {
   "cell_type": "markdown",
   "metadata": {},
   "source": [
    "List of the output files:\n",
    "   * `channel0.f*`: snapshots of the flow fields written at intervals `writeInterval`."
   ]
  },
  {
   "cell_type": "markdown",
   "metadata": {},
   "source": [
    "**Contour plots of the snapshots:**\n",
    "The snapshot fields `channel0.f*` can be plotted using [`ParaView`](https://www.paraview.org/) or [`VisIt`](https://wci.llnl.gov/simulation/computer-codes/visit). To this end, we need to first run `visnek` command in the case root. This creates `channel.nek5000` which can be opened in the mentioned software. "
   ]
  },
  {
   "cell_type": "markdown",
   "metadata": {},
   "source": [
    "<img src=\"./static_figs/minimal.png\" alt=\"drawing\" width=\"600\"/>\n",
    "\n",
    "<center>Isosurface of an instantaneous field of streamwise velocity, and vertical plane with streamwise velocity.</center>"
   ]
  },
  {
   "cell_type": "markdown",
   "metadata": {},
   "source": [
    "Note that this case may be run for longer than the given example ($t_\\mathrm{max} = 1000$). However, as always with minimal channels there is a chance of re-laminarising.\n",
    "\n",
    "If you cannot get the simulation to work, you can download the snapshots fromt his simulation on OneDrive: [channel.tar](https://kth-my.sharepoint.com/:u:/g/personal/philipps_ug_kth_se/EbMQ_Pw2rQJMqez5KuK_eCABxYQ3zCC8LUZPB4kX-bvRgw?e=eP4lA1). (1.5GB)"
    ]
    },
  {
   "cell_type": "markdown",
   "metadata": {},
   "source": [
    "## 3. POD analysis"
   ]
  },
  {
   "cell_type": "markdown",
   "metadata": {},
   "source": [
    "Once all the snapshots are created, including also the mass matrix `bm1` in the file `bm1channel0.f00001`, you can run the POD code located [here](https://github.com/KTH-Nek5000/TurbCourse/tree/main/pod/channel).\n",
    "\n",
    "Edit the file `input.txt` according to your needs, in particular `path_in` and `path_out`, and then run `python ddmMain.py`.\n",
    "\n",
    "In your output directory, you will then find two `.nek5000`files that can be visualised using Paraview or Visit: `PODmodchannel.nek5000` (containing the POD modes) and `PODsnaprcnchannel.nek5000` (containing a reconstructed low-order series of the flow).\n",
    "\n",
    "You will also get the POD spectrum, and some sample time series. How they behave, we will discuss during the tutorial."
   ]
  },
  {
   "cell_type": "markdown",
   "metadata": {},
   "source": [
    "<img src=\"./static_figs/streak.png\" alt=\"drawing\" width=\"600\"/>\n",
    "\n",
    "<center>First POD mode for the minimal channel. Together with mode 2 they build up the streaks.</center>\n",
    "\n",
    "<img src=\"./static_figs/streak-instab.png\" alt=\"drawing\" width=\"600\"/>\n",
    "\n",
    "<center>Mode 3 for the minimal channel. Together with modes 4, 7, 8 they build up the streak instability. Note that the numbering may differ depending on the number of snapshots, spacing etc.</center>"
   ]
  },
  {
   "cell_type": "markdown",
   "metadata": {},
   "source": [
    "As an important side note we should mention that the POD decomposition in homogeneous directions (periodic directions) will converge to a Fourier decomposition in the limit of sufficient number of snapshots. This means that in this case in principle only the vertical $y$ direction needs to be treated via POD, and the $x$ and $z$ direction should be decomposed using Fourier, e.g. using an FFT. This is not part of the current tutorial, but can of course be implemented (see also the reference by Webber et al. below)."
   ]
  },
  {
   "cell_type": "markdown",
   "metadata": {},
   "source": [
    "## References\n",
    "\n",
    "Relevant references for this type of POD analysis:\n",
    "\n",
    "- Malm, J., Bagheri, S., Schlatter, P. and Henningson, D. S., Koopman mode decompisition of a minimal\n",
    "channel flow, 2011: [link to thesis](https://www.mech.kth.se/thesis/2011/phd/phd_2011_johan_malm.pdf), page 123\n",
    "\n",
    "- Webber, G. A., Handler, R. A. and Sirovich, L., The Karhunen–Loève decomposition of minimal channel flow,\n",
    "Physics of Fluids 9, 1054 (1997): [doi](https://doi.org/10.1063/1.869323)"
   ]
  },
  {
   "cell_type": "code",
   "execution_count": null,
   "metadata": {},
   "outputs": [],
   "source": []
  }
 ],
 "metadata": {
  "kernelspec": {
   "display_name": "Python 3 (ipykernel)",
   "language": "python",
   "name": "python3"
  },
  "language_info": {
   "codemirror_mode": {
    "name": "ipython",
    "version": 3
   },
   "file_extension": ".py",
   "mimetype": "text/x-python",
   "name": "python",
   "nbconvert_exporter": "python",
   "pygments_lexer": "ipython3",
   "version": "3.9.12"
  }
 },
 "nbformat": 4,
 "nbformat_minor": 2
}
